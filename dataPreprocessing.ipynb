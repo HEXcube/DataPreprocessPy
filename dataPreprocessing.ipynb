{
 "cells": [
  {
   "cell_type": "markdown",
   "metadata": {},
   "source": [
    "<h1>Data Preprocessing</h1>"
   ]
  },
  {
   "cell_type": "markdown",
   "metadata": {},
   "source": [
    "For detailed explanations, see https://machinelearningmastery.com/prepare-data-machine-learning-python-scikit-learn/"
   ]
  },
  {
   "cell_type": "code",
   "execution_count": 94,
   "metadata": {},
   "outputs": [
    {
     "name": "stdout",
     "output_type": "stream",
     "text": [
      "[[6.00 nan 72.00 ... 33.60 0.63 50.00]\n",
      " [1.00 85.00 66.00 ... 26.60 0.35 31.00]\n",
      " [8.00 183.00 64.00 ... 23.30 0.67 32.00]\n",
      " ...\n",
      " [5.00 121.00 72.00 ... 26.20 0.24 30.00]\n",
      " [1.00 126.00 60.00 ... 30.10 0.35 47.00]\n",
      " [1.00 93.00 70.00 ... 30.40 0.32 23.00]]\n"
     ]
    }
   ],
   "source": [
    "import numpy\n",
    "import scipy\n",
    "import pandas\n",
    "url = \"inputDiabetesData.csv\"\n",
    "names = ['preg', 'plas', 'pres', 'skin', 'test', 'mass', 'pedi', 'age', 'class']\n",
    "dataframe = pandas.read_csv(url, names=names)\n",
    "array = dataframe.values\n",
    "# separate array into input and output components\n",
    "X = array[:,0:8]\n",
    "Y = array[:,8]\n",
    "print(X)"
   ]
  },
  {
   "cell_type": "markdown",
   "metadata": {},
   "source": [
    "<h3>Cleaning - Drop the whole row</h3>"
   ]
  },
  {
   "cell_type": "code",
   "execution_count": 95,
   "metadata": {},
   "outputs": [
    {
     "name": "stdout",
     "output_type": "stream",
     "text": [
      "[[1.00 85.00 66.00 ... 26.60 0.35 31.00]\n",
      " [8.00 183.00 64.00 ... 23.30 0.67 32.00]\n",
      " [1.00 89.00 66.00 ... 28.10 0.17 21.00]\n",
      " ...\n",
      " [5.00 121.00 72.00 ... 26.20 0.24 30.00]\n",
      " [1.00 126.00 60.00 ... 30.10 0.35 47.00]\n",
      " [1.00 93.00 70.00 ... 30.40 0.32 23.00]]\n"
     ]
    }
   ],
   "source": [
    "cleaneddata = dataframe.dropna()\n",
    "array = cleaneddata.values\n",
    "# Convert exponential format to float\n",
    "# https://stackoverflow.com/questions/21008858/formatting-floats-in-a-numpy-array/21009774#21009774\n",
    "float_formatter = lambda x: \"%.2f\" % x\n",
    "numpy.set_printoptions(formatter={'float_kind':float_formatter})\n",
    "X = array[:,0:8]\n",
    "print(X)\n",
    "\n",
    "# Print output 2D list to a file\n",
    "# https://stackoverflow.com/questions/21023523/writing-multi-dimensional-list-value-to-a-file-in-python/21023654#21023654\n",
    "import csv\n",
    "with open(\"output0.1CleanDeletion.csv\", 'w') as outputFile:\n",
    "   writer = csv.writer(outputFile, delimiter=',')\n",
    "   writer.writerows(X)"
   ]
  },
  {
   "cell_type": "markdown",
   "metadata": {},
   "source": [
    "<h3>Cleaning - Substitution</h3>"
   ]
  },
  {
   "cell_type": "code",
   "execution_count": 96,
   "metadata": {},
   "outputs": [
    {
     "name": "stdout",
     "output_type": "stream",
     "text": [
      "[[6.00 0.00 72.00 ... 33.60 0.63 50.00]\n",
      " [1.00 85.00 66.00 ... 26.60 0.35 31.00]\n",
      " [8.00 183.00 64.00 ... 23.30 0.67 32.00]\n",
      " ...\n",
      " [5.00 121.00 72.00 ... 26.20 0.24 30.00]\n",
      " [1.00 126.00 60.00 ... 30.10 0.35 47.00]\n",
      " [1.00 93.00 70.00 ... 30.40 0.32 23.00]]\n"
     ]
    }
   ],
   "source": [
    "cleaneddata = dataframe.fillna(0)\n",
    "array = cleaneddata.values\n",
    "# Convert exponential format to float\n",
    "# https://stackoverflow.com/questions/21008858/formatting-floats-in-a-numpy-array/21009774#21009774\n",
    "float_formatter = lambda x: \"%.2f\" % x\n",
    "numpy.set_printoptions(formatter={'float_kind':float_formatter})\n",
    "X = array[:,0:8]\n",
    "print(X)\n",
    "with open(\"output0.2CleanSubstitution.csv\", 'w') as outputFile:\n",
    "   writer = csv.writer(outputFile, delimiter=',')\n",
    "   writer.writerows(X)"
   ]
  },
  {
   "cell_type": "markdown",
   "metadata": {},
   "source": [
    "<h3>Resizing/MinMaxScaling</h3>"
   ]
  },
  {
   "cell_type": "code",
   "execution_count": 102,
   "metadata": {},
   "outputs": [
    {
     "name": "stdout",
     "output_type": "stream",
     "text": [
      "[[1.765 0.    2.951 1.768 0.    2.504 1.172 2.417]\n",
      " [0.294 2.136 2.705 1.465 0.    1.982 0.583 0.833]\n",
      " [2.353 4.598 2.623 0.    0.    1.736 1.268 0.917]\n",
      " [0.294 2.236 2.705 1.162 0.556 2.094 0.19  0.   ]\n",
      " [0.    3.442 1.639 1.768 0.993 3.212 4.718 1.   ]]\n"
     ]
    }
   ],
   "source": [
    "# Rescale data (between 0 and 1)\n",
    "from sklearn.preprocessing import MinMaxScaler\n",
    "scaler = MinMaxScaler(feature_range=(0, 5))\n",
    "rescaledX = scaler.fit_transform(X)\n",
    "# summarize transformed data\n",
    "numpy.set_printoptions(precision=3)\n",
    "print(rescaledX[0:5,:])\n",
    "with open(\"output1.1MinMaxScaling.csv\", 'w') as outputFile:\n",
    "   writer = csv.writer(outputFile, delimiter=',')\n",
    "   writer.writerows(rescaledX)"
   ]
  },
  {
   "cell_type": "markdown",
   "metadata": {},
   "source": [
    "<h3>Standardization/StandardScaling</h3>"
   ]
  },
  {
   "cell_type": "code",
   "execution_count": 98,
   "metadata": {},
   "outputs": [
    {
     "name": "stdout",
     "output_type": "stream",
     "text": [
      "[[ 0.64  -3.745  0.15   0.907 -0.693  0.204  0.468  1.426]\n",
      " [-0.845 -1.108 -0.161  0.531 -0.693 -0.684 -0.365 -0.191]\n",
      " [ 1.234  1.933 -0.264 -1.288 -0.693 -1.103  0.604 -0.106]\n",
      " [-0.845 -0.984 -0.161  0.155  0.123 -0.494 -0.921 -1.042]\n",
      " [-1.142  0.506 -1.505  0.907  0.766  1.41   5.485 -0.02 ]]\n"
     ]
    }
   ],
   "source": [
    "# Standardize data (0 mean, 1 stdev)\n",
    "from sklearn.preprocessing import StandardScaler\n",
    "scaler = StandardScaler().fit(X)\n",
    "rescaledX = scaler.transform(X)\n",
    "# summarize transformed data\n",
    "numpy.set_printoptions(precision=3)\n",
    "print(rescaledX[0:5,:])\n",
    "with open(\"output1.2Standardization.csv\", 'w') as outputFile:\n",
    "   writer = csv.writer(outputFile, delimiter=',')\n",
    "   writer.writerows(rescaledX)"
   ]
  },
  {
   "cell_type": "markdown",
   "metadata": {},
   "source": [
    "<h3>Normalization</h3>"
   ]
  },
  {
   "cell_type": "code",
   "execution_count": 99,
   "metadata": {},
   "outputs": [
    {
     "name": "stdout",
     "output_type": "stream",
     "text": [
      "[[0.06  0.    0.717 0.349 0.    0.335 0.006 0.498]\n",
      " [0.008 0.716 0.556 0.244 0.    0.224 0.003 0.261]\n",
      " [0.04  0.924 0.323 0.    0.    0.118 0.003 0.162]\n",
      " [0.007 0.588 0.436 0.152 0.622 0.186 0.001 0.139]\n",
      " [0.    0.596 0.174 0.152 0.731 0.188 0.01  0.144]]\n"
     ]
    }
   ],
   "source": [
    "# Normalize data (length of 1)\n",
    "from sklearn.preprocessing import Normalizer\n",
    "scaler = Normalizer().fit(X)\n",
    "normalizedX = scaler.transform(X)\n",
    "# summarize transformed data\n",
    "numpy.set_printoptions(precision=3)\n",
    "print(normalizedX[0:5,:])\n",
    "with open(\"output1.3Normalization.csv\", 'w') as outputFile:\n",
    "   writer = csv.writer(outputFile, delimiter=',')\n",
    "   writer.writerows(normalizedX)"
   ]
  },
  {
   "cell_type": "markdown",
   "metadata": {},
   "source": [
    "<h3>Binarization</h3>"
   ]
  },
  {
   "cell_type": "code",
   "execution_count": 100,
   "metadata": {},
   "outputs": [
    {
     "name": "stdout",
     "output_type": "stream",
     "text": [
      "[[0 0 1 1 0 1 0 1]\n",
      " [0 1 1 1 0 1 0 1]\n",
      " [0 1 1 0 0 1 0 1]\n",
      " [0 1 1 1 1 1 0 1]\n",
      " [0 1 1 1 1 1 0 1]]\n"
     ]
    }
   ],
   "source": [
    "# binarization\n",
    "from sklearn.preprocessing import Binarizer\n",
    "binarizer = Binarizer(threshold=10).fit(X)\n",
    "binaryX = binarizer.transform(X)\n",
    "# Convert floats in numpy 2D arrays to ints\n",
    "# https://stackoverflow.com/questions/43197594/convert-numbers-in-a-list-of-lists-to-float-in-python/48838744#48838744\n",
    "binaryX = numpy.array(binaryX, int)\n",
    "# summarize transformed data\n",
    "print(binaryX[0:5,:])\n",
    "with open(\"output1.4Binarization.csv\", 'w') as outputFile:\n",
    "   writer = csv.writer(outputFile, delimiter=',')\n",
    "   writer.writerows(binaryX)"
   ]
  },
  {
   "cell_type": "markdown",
   "metadata": {},
   "source": [
    "<h3>Discretization</h3>"
   ]
  },
  {
   "cell_type": "code",
   "execution_count": 101,
   "metadata": {},
   "outputs": [
    {
     "name": "stdout",
     "output_type": "stream",
     "text": [
      "[[ 0.6 -3.7  0.1  0.9 -0.7  0.2  0.5  1.4]\n",
      " [-0.8 -1.1 -0.2  0.5 -0.7 -0.7 -0.4 -0.2]\n",
      " [ 1.2  1.9 -0.3 -1.3 -0.7 -1.1  0.6 -0.1]\n",
      " [-0.8 -1.  -0.2  0.2  0.1 -0.5 -0.9 -1. ]\n",
      " [-1.1  0.5 -1.5  0.9  0.8  1.4  5.5 -0. ]]\n"
     ]
    }
   ],
   "source": [
    "# Discretization\n",
    "roundedX = numpy.round(rescaledX, 1)\n",
    "# summarize transformed data\n",
    "print(roundedX[0:5,:])\n",
    "with open(\"output4Discretization.csv\", 'w') as outputFile:\n",
    "   writer = csv.writer(outputFile, delimiter=',')\n",
    "   writer.writerows(roundedX)"
   ]
  },
  {
   "cell_type": "code",
   "execution_count": null,
   "metadata": {},
   "outputs": [],
   "source": []
  }
 ],
 "metadata": {
  "kernelspec": {
   "display_name": "Python 3",
   "language": "python",
   "name": "python3"
  },
  "language_info": {
   "codemirror_mode": {
    "name": "ipython",
    "version": 3
   },
   "file_extension": ".py",
   "mimetype": "text/x-python",
   "name": "python",
   "nbconvert_exporter": "python",
   "pygments_lexer": "ipython3",
   "version": "3.6.6"
  }
 },
 "nbformat": 4,
 "nbformat_minor": 2
}
